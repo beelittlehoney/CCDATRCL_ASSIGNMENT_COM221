{
  "cells": [
    {
      "cell_type": "markdown",
      "metadata": {
        "id": "view-in-github",
        "colab_type": "text"
      },
      "source": [
        "<a href=\"https://colab.research.google.com/github/beelittlehoney/CCDATRCL_ASSIGNMENT_COM221/blob/main/exercise4.ipynb\" target=\"_parent\"><img src=\"https://colab.research.google.com/assets/colab-badge.svg\" alt=\"Open In Colab\"/></a>"
      ]
    },
    {
      "cell_type": "markdown",
      "metadata": {
        "id": "fCO3VeNzvGDc"
      },
      "source": [
        "# Exercise 4"
      ]
    },
    {
      "cell_type": "markdown",
      "metadata": {
        "id": "UCFGr2qPKONg"
      },
      "source": [
        "#### Pre-defined sorting algorithms"
      ]
    },
    {
      "cell_type": "code",
      "execution_count": 1,
      "metadata": {
        "id": "dXWXOLWtKONg"
      },
      "outputs": [],
      "source": [
        "def mergeSort(array):\n",
        "    if len(array) > 1:\n",
        "\n",
        "        #  r is the point where the array is divided into two subarrays\n",
        "        r = len(array)//2\n",
        "        L = array[:r]\n",
        "        M = array[r:]\n",
        "\n",
        "        # Sort the two halves\n",
        "        mergeSort(L)\n",
        "        mergeSort(M)\n",
        "\n",
        "        i = j = k = 0\n",
        "\n",
        "        # Until we reach either end of either L or M, pick larger among\n",
        "        # elements L and M and place them in the correct position at A[p..r]\n",
        "        while i < len(L) and j < len(M):\n",
        "            if L[i] < M[j]:\n",
        "                array[k] = L[i]\n",
        "                i += 1\n",
        "            else:\n",
        "                array[k] = M[j]\n",
        "                j += 1\n",
        "            k += 1\n",
        "\n",
        "        # When we run out of elements in either L or M,\n",
        "        # pick up the remaining elements and put in A[p..r]\n",
        "        while i < len(L):\n",
        "            array[k] = L[i]\n",
        "            i += 1\n",
        "            k += 1\n",
        "\n",
        "        while j < len(M):\n",
        "            array[k] = M[j]\n",
        "            j += 1\n",
        "            k += 1\n",
        "\n",
        "# Print the array\n",
        "def printList(array):\n",
        "    for i in range(len(array)):\n",
        "        print(array[i], end=\" \")\n",
        "    print()"
      ]
    },
    {
      "cell_type": "code",
      "execution_count": 2,
      "metadata": {
        "id": "OB-JMVxvKONi"
      },
      "outputs": [],
      "source": [
        "def countingSort(array):\n",
        "    size = len(array)\n",
        "    output = [0] * size\n",
        "\n",
        "    # Initialize count array\n",
        "    count = [0] * 10\n",
        "\n",
        "    # Store the count of each elements in count array\n",
        "    for i in range(0, size):\n",
        "        count[array[i]] += 1\n",
        "\n",
        "    # Store the cummulative count\n",
        "    for i in range(1, 10):\n",
        "        count[i] += count[i - 1]\n",
        "\n",
        "    # Find the index of each element of the original array in count array\n",
        "    # place the elements in output array\n",
        "    i = size - 1\n",
        "    while i >= 0:\n",
        "        output[count[array[i]] - 1] = array[i]\n",
        "        count[array[i]] -= 1\n",
        "        i -= 1\n",
        "\n",
        "    # Copy the sorted elements into original array\n",
        "    for i in range(0, size):\n",
        "        array[i] = output[i]"
      ]
    },
    {
      "cell_type": "code",
      "execution_count": 3,
      "metadata": {
        "id": "VXaukk4_KONj"
      },
      "outputs": [],
      "source": [
        "def insertionSort(array):\n",
        "\n",
        "    for step in range(1, len(array)):\n",
        "        key = array[step]\n",
        "        j = step - 1\n",
        "\n",
        "        # Compare key with each element on the left of it until an element smaller than it is found\n",
        "        # For descending order, change key<array[j] to key>array[j].\n",
        "        while j >= 0 and key < array[j]:\n",
        "            array[j + 1] = array[j]\n",
        "            j = j - 1\n",
        "\n",
        "        # Place key at after the element just smaller than it.\n",
        "        array[j + 1] = key"
      ]
    },
    {
      "cell_type": "code",
      "execution_count": 4,
      "metadata": {
        "id": "b4yWHH1nKONj"
      },
      "outputs": [],
      "source": [
        "# Bubble sort in Python\n",
        "def bubbleSort(array):\n",
        "\n",
        "  # loop to access each array element\n",
        "  for i in range(len(array)):\n",
        "\n",
        "    # loop to compare array elements\n",
        "    for j in range(0, len(array) - i - 1):\n",
        "\n",
        "      # compare two adjacent elements\n",
        "      # change > to < to sort in descending order\n",
        "      if array[j] > array[j + 1]:\n",
        "\n",
        "        # swapping elements if elements\n",
        "        # are not in the intended order\n",
        "        temp = array[j]\n",
        "        array[j] = array[j+1]\n",
        "        array[j+1] = temp"
      ]
    },
    {
      "cell_type": "markdown",
      "metadata": {
        "id": "6j9PZVsyvGDe"
      },
      "source": [
        "#### 1. Sort your **student number** in **ascending order**\n",
        "\n",
        "Example:\n",
        "\n",
        "**Input: 2022123456**\n",
        "\n",
        "**Output: 0122223456**"
      ]
    },
    {
      "cell_type": "code",
      "execution_count": 5,
      "metadata": {
        "id": "UuNMRCm3vGDe",
        "colab": {
          "base_uri": "https://localhost:8080/"
        },
        "outputId": "8e12558f-dd11-47ef-88c5-497ec34dc15e"
      },
      "outputs": [
        {
          "output_type": "stream",
          "name": "stdout",
          "text": [
            "Unsorted:\n",
            "[2, 0, 2, 2, 1, 0, 6, 3, 7, 2]\n",
            "\n",
            "Sorted:\n",
            " 0  0  1  2  2  2  2  3  6  7 "
          ]
        }
      ],
      "source": [
        "# put your answer here\n",
        "\n",
        "student_num = [2, 0, 2, 2, 1, 0, 6, 3, 7, 2]\n",
        "\n",
        "print(\"Unsorted:\")\n",
        "print(student_num)\n",
        "\n",
        "bubbleSort(student_num)\n",
        "print(\"\")\n",
        "\n",
        "print(\"Sorted:\")\n",
        "for i in range(len(student_num)):\n",
        "  print(\"% d\" % student_num[i], end=\" \")"
      ]
    },
    {
      "cell_type": "markdown",
      "metadata": {
        "id": "felukBjnvGDf"
      },
      "source": [
        "#### 2. Sort the **dates** in **ascending order**.\n",
        "\n",
        "dates = [\"12-25-2023\", birthday, \"01-01-2023\"]\n",
        "\n",
        "Enter your birthday in the birthday variable."
      ]
    },
    {
      "cell_type": "code",
      "execution_count": 10,
      "metadata": {
        "id": "f8xQ3N0jvGDg",
        "colab": {
          "base_uri": "https://localhost:8080/"
        },
        "outputId": "4bd0537e-f874-43f9-d663-a03b14758888"
      },
      "outputs": [
        {
          "output_type": "stream",
          "name": "stdout",
          "text": [
            "Unsorted Date:\n",
            "['12-25-2023', '04-01-2003', '01-01-2023']\n",
            "\n",
            "Sorted Date:\n",
            "['01-01-2023', '04-01-2003', '12-25-2023']\n"
          ]
        }
      ],
      "source": [
        "# put your answer here\n",
        "\n",
        "# Your birthday should be in mm-dd-yyyy\n",
        "birthday = \"04-01-2003\"\n",
        "\n",
        "dates = [\"12-25-2023\", birthday, \"01-01-2023\"]\n",
        "\n",
        "print(\"Unsorted Date:\")\n",
        "print(dates)\n",
        "\n",
        "insertionSort(dates)\n",
        "print(\"\")\n",
        "\n",
        "print(\"Sorted Date:\")\n",
        "print(dates)"
      ]
    },
    {
      "cell_type": "markdown",
      "metadata": {
        "id": "IFDPeGZxvGDg"
      },
      "source": [
        "#### 3. Count the **total number of swaps** to sort the list below using **Bubble Sort**\n",
        "\n",
        "|3|2|5|1|4|\n",
        "|---|----|---|---|---|"
      ]
    },
    {
      "cell_type": "code",
      "execution_count": 22,
      "metadata": {
        "id": "b1ppwLcevGDg",
        "outputId": "7cf5368c-3a1e-41dd-ee56-e4c88c1c8025",
        "colab": {
          "base_uri": "https://localhost:8080/"
        }
      },
      "outputs": [
        {
          "output_type": "stream",
          "name": "stdout",
          "text": [
            "Unsorted:\n",
            "[3, 2, 5, 1, 4]\n",
            "\n",
            "Sorted:\n",
            "[1, 2, 3, 4, 5]\n",
            "\n",
            "Total number of Swaps:  5\n"
          ]
        }
      ],
      "source": [
        "# put your answer here\n",
        "\n",
        "number = [3, 2, 5, 1, 4]\n",
        "print(\"Unsorted:\")\n",
        "print(number)\n",
        "print(\"\")\n",
        "\n",
        "def bubble_sort(number):\n",
        "  array = len(number)\n",
        "  swaps = 0\n",
        "\n",
        "  for i in range(array):\n",
        "    swapped = False\n",
        "\n",
        "    for j in range(0, array - i - 1):\n",
        "      if number[j] > number[j + 1]:\n",
        "        number[j], number[j + 1] = number[j + 1], number[j]\n",
        "        swapped = True\n",
        "        swaps += 1\n",
        "    if not swapped:\n",
        "      break\n",
        "\n",
        "  return swaps\n",
        "\n",
        "totalswaps = bubble_sort(number)\n",
        "\n",
        "print(\"Sorted:\")\n",
        "print(number)\n",
        "print(\"\")\n",
        "\n",
        "print(\"Total number of Swaps: \", totalswaps)"
      ]
    },
    {
      "cell_type": "markdown",
      "metadata": {
        "id": "iO2UusQWvGDi"
      },
      "source": [
        "#### 4. Count the **total number of steps** to sort the list below using **Insertion Sort**\n",
        "\n",
        "\n",
        "|6|2|5|7|4|1|8|9|3|\n",
        "|---|---|---|---|---|---|---|---|---|"
      ]
    },
    {
      "cell_type": "code",
      "execution_count": 24,
      "metadata": {
        "id": "vq1PYEjmvGDi",
        "outputId": "a017ea0f-2198-417e-d128-2676e245beb6",
        "colab": {
          "base_uri": "https://localhost:8080/"
        }
      },
      "outputs": [
        {
          "output_type": "stream",
          "name": "stdout",
          "text": [
            "Unsorted:\n",
            "[6, 2, 5, 7, 4, 1, 8, 9, 3]\n",
            "\n",
            "Sorted:\n",
            "[1, 2, 3, 4, 5, 6, 7, 8, 9]\n",
            "\n",
            "Total number of steps:\n",
            "24\n"
          ]
        }
      ],
      "source": [
        "# put your answer here\n",
        "\n",
        "number = [6, 2, 5, 7, 4, 1, 8, 9, 3]\n",
        "print(\"Unsorted:\")\n",
        "print(number)\n",
        "print(\"\")\n",
        "\n",
        "def insertionSort(array):\n",
        "  steps = 0\n",
        "  for step in range(1, len(array)):\n",
        "    key = array[step]\n",
        "    j = step - 1\n",
        "\n",
        "    while j >= 0 and key < array[j]:\n",
        "      array[j + 1] = array[j]\n",
        "      j = j - 1\n",
        "      steps += 1\n",
        "\n",
        "    array[j + 1] = key\n",
        "    steps += 1\n",
        "\n",
        "  return steps\n",
        "\n",
        "numberofsteps = insertionSort(number)\n",
        "print(\"Sorted:\")\n",
        "print(number)\n",
        "print(\"\")\n",
        "\n",
        "print(\"Total number of steps:\")\n",
        "print(numberofsteps)"
      ]
    },
    {
      "cell_type": "markdown",
      "metadata": {
        "id": "jpfNCCdbvGDj"
      },
      "source": [
        "#### 5. Given the list below:\n",
        "\n",
        "\n",
        "|7|5|4|3|2|5|1|8|\n",
        "|---|---|---|---|---|---|---|---|\n",
        "\n",
        "Using **merge sort** and **counting sort**\n",
        "\n",
        "Determine which sorting algorithm is faster by counting the total number of steps for each algorithm\n"
      ]
    },
    {
      "cell_type": "code",
      "execution_count": 28,
      "metadata": {
        "id": "2YVK17cSvGDj",
        "outputId": "0ae41112-98b0-4f1f-836a-498c2a7f24ee",
        "colab": {
          "base_uri": "https://localhost:8080/"
        }
      },
      "outputs": [
        {
          "output_type": "stream",
          "name": "stdout",
          "text": [
            "Merge sort is faster\n"
          ]
        }
      ],
      "source": [
        "# put your answer here\n",
        "\n",
        "merge_sort_num_steps = 7\n",
        "\n",
        "counting_sort_num_steps = 8\n",
        "\n",
        "if merge_sort_num_steps < counting_sort_num_steps:\n",
        "    print(\"Merge sort is faster\")\n",
        "else:\n",
        "    print(\"counting sort is faster\")"
      ]
    }
  ],
  "metadata": {
    "colab": {
      "provenance": [],
      "include_colab_link": true
    },
    "kernelspec": {
      "display_name": "Python 3",
      "language": "python",
      "name": "python3"
    },
    "language_info": {
      "codemirror_mode": {
        "name": "ipython",
        "version": 3
      },
      "file_extension": ".py",
      "mimetype": "text/x-python",
      "name": "python",
      "nbconvert_exporter": "python",
      "pygments_lexer": "ipython3",
      "version": "3.11.4"
    },
    "orig_nbformat": 4
  },
  "nbformat": 4,
  "nbformat_minor": 0
}