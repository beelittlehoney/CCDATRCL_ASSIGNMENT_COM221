{
  "cells": [
    {
      "cell_type": "markdown",
      "metadata": {
        "id": "h2vFiYhGzZOg"
      },
      "source": [
        "# Exercise 1"
      ]
    },
    {
      "cell_type": "markdown",
      "source": [
        "## Class Initialization"
      ],
      "metadata": {
        "id": "sRm6kPQozcaU"
      }
    },
    {
      "cell_type": "code",
      "execution_count": 1,
      "metadata": {
        "id": "b1u4Dt9mzZOi"
      },
      "outputs": [],
      "source": [
        "class Node:\n",
        "    def __init__(self, data):\n",
        "        self.data = data\n",
        "        self.next = None"
      ]
    },
    {
      "cell_type": "code",
      "execution_count": 2,
      "metadata": {
        "id": "tigvHSaHzZOj"
      },
      "outputs": [],
      "source": [
        "class LinkedList:\n",
        "\n",
        "    def __init__(self):\n",
        "        self.head = None\n",
        "\n",
        "    def traverse(self, node):\n",
        "        while node:\n",
        "            print(node.data, end=\" -> \")\n",
        "            node = node.next"
      ]
    },
    {
      "cell_type": "code",
      "execution_count": 3,
      "metadata": {
        "id": "LIkQBioVzZOk"
      },
      "outputs": [],
      "source": [
        "class DoublyLinkedList:\n",
        "\n",
        "    def __init__(self):\n",
        "        self.head = None\n",
        "\n",
        "    def traverse(self, node):\n",
        "        while node:\n",
        "            print(node.data, end=\" -> \")\n",
        "            node = node.next"
      ]
    },
    {
      "cell_type": "code",
      "execution_count": 4,
      "metadata": {
        "id": "zlxNT5EozZOl"
      },
      "outputs": [],
      "source": [
        "class CircularLinkedList:\n",
        "\n",
        "    def __init__(self):\n",
        "        self.head = None\n",
        "\n",
        "    def traverse(self, node):\n",
        "\n",
        "        head = node\n",
        "\n",
        "        while node:\n",
        "            print(node.data, end=\" -> \")\n",
        "            node = node.next\n",
        "\n",
        "            # Break to prevent infinite loop\n",
        "            if node == head:\n",
        "                break"
      ]
    },
    {
      "cell_type": "markdown",
      "metadata": {
        "id": "O68-Q1-bzZOl"
      },
      "source": [
        "#### 1. Create a Singly Linked list\n",
        "\n",
        "- Each node should contain your name and your seatmates in your row\n",
        "- Create at least 5 nodes\n",
        "- Traverse all nodes"
      ]
    },
    {
      "cell_type": "code",
      "execution_count": 5,
      "metadata": {
        "id": "pTcx_OuPzZOl",
        "colab": {
          "base_uri": "https://localhost:8080/"
        },
        "outputId": "04afdf15-f7b1-4987-93a2-68ee9700134f"
      },
      "outputs": [
        {
          "output_type": "stream",
          "name": "stdout",
          "text": [
            "Gelo -> Jassy -> Jessy -> Boybie -> Kalli -> "
          ]
        }
      ],
      "source": [
        "# put your code here\n",
        "\n",
        "class RowSingly:\n",
        "\n",
        "  def __init__(self):\n",
        "        self.head = None\n",
        "\n",
        "  def traverse(self, node):\n",
        "    while node:\n",
        "      print(node.data, end=\" -> \")\n",
        "      node = node.next\n",
        "\n",
        "singly = RowSingly()\n",
        "\n",
        "singly.head = Node(\"Gelo\")\n",
        "node_2 = Node(\"Jassy\")\n",
        "node_3 = Node(\"Jessy\")\n",
        "node_4 = Node(\"Boybie\")\n",
        "node_5 = Node(\"Kalli\")\n",
        "\n",
        "singly.head.next = node_2\n",
        "node_2.next = node_3\n",
        "node_3.next = node_4\n",
        "node_4.next = node_5\n",
        "\n",
        "singly.traverse(singly.head)"
      ]
    },
    {
      "cell_type": "markdown",
      "metadata": {
        "id": "IFgwbdw_zZOm"
      },
      "source": [
        "#### 2. Create a Doubly Linked list\n",
        "\n",
        "- Each node should contain your name and your seatmates in your row\n",
        "- Create at least 5 nodes\n",
        "- Traverse all nodes"
      ]
    },
    {
      "cell_type": "code",
      "execution_count": 16,
      "metadata": {
        "id": "8kQD2A_QzZOm",
        "colab": {
          "base_uri": "https://localhost:8080/"
        },
        "outputId": "62fdf9c7-7d7f-4477-88ac-2a7ae71e8371"
      },
      "outputs": [
        {
          "output_type": "stream",
          "name": "stdout",
          "text": [
            "The HEAD or FIRST node is:  Gelo\n",
            "The next node is:  Jassy\n",
            "\n",
            "The SECOND node is:  Jassy\n",
            "The previous of  Jassy  was:  Gelo\n",
            "The next node is:  Jessy\n",
            "\n",
            "The THIRD node is:  Jessy\n",
            "The previous of  Jessy  was:  Jassy\n",
            "The next node is:  Boybie\n",
            "\n",
            "The FOURTH node is:  Boybie\n",
            "The previous of  Boybie  was:  Jessy\n",
            "The next node is:  Kalli\n",
            "\n",
            "The FIFTH or LAST node is:  Kalli\n",
            "The previous of  Kalli  was:  Boybie\n"
          ]
        }
      ],
      "source": [
        "# put your code here\n",
        "\n",
        "class RowDoubly:\n",
        "\n",
        "  def __init__(self):\n",
        "    self.head = None\n",
        "\n",
        "  def traverse(self, node):\n",
        "    while node:\n",
        "      print(node.data, end=\" -> \")\n",
        "      node = node.next\n",
        "\n",
        "doubly = RowDoubly()\n",
        "\n",
        "doubly.head = Node(\"Gelo\")\n",
        "node_2 = Node(\"Jassy\")\n",
        "node_3 = Node(\"Jessy\")\n",
        "node_4 = Node(\"Boybie\")\n",
        "node_5 = Node(\"Kalli\")\n",
        "\n",
        "doubly.head.prev = None\n",
        "doubly.head.next = node_2\n",
        "\n",
        "node_2.prev = doubly.head\n",
        "node_2.next = node_3\n",
        "\n",
        "node_3.prev = node_2\n",
        "node_3.next = node_4\n",
        "\n",
        "node_4.prev = node_3\n",
        "node_4.next = node_5\n",
        "\n",
        "node_5.prev = node_4\n",
        "\n",
        "print(\"The HEAD or FIRST node is: \", doubly.head.data)\n",
        "print(\"The next node is: \", doubly.head.next.data)\n",
        "\n",
        "print(\"\")\n",
        "\n",
        "print(\"The SECOND node is: \", node_2.data)\n",
        "print(\"The previous of \", node_2.data,\" was: \", node_2.prev.data)\n",
        "print(\"The next node is: \", node_2.next.data)\n",
        "\n",
        "print(\"\")\n",
        "\n",
        "print(\"The THIRD node is: \", node_3.data)\n",
        "print(\"The previous of \", node_3.data,\" was: \", node_3.prev.data)\n",
        "print(\"The next node is: \", node_3.next.data)\n",
        "\n",
        "print(\"\")\n",
        "\n",
        "print(\"The FOURTH node is: \", node_4.data)\n",
        "print(\"The previous of \", node_4.data,\" was: \", node_4.prev.data)\n",
        "print(\"The next node is: \", node_4.next.data)\n",
        "\n",
        "print(\"\")\n",
        "\n",
        "print(\"The FIFTH or LAST node is: \", node_5.data)\n",
        "print(\"The previous of \", node_5.data,\" was: \", node_5.prev.data)"
      ]
    },
    {
      "cell_type": "markdown",
      "metadata": {
        "id": "rtApbsCjzZOm"
      },
      "source": [
        "#### 3. Create a Circular Linked list\n",
        "\n",
        "- Each node should contain your name and your seatmates in your row\n",
        "- Create at least 5 nodes\n",
        "- Traverse all nodes"
      ]
    },
    {
      "cell_type": "code",
      "execution_count": 21,
      "metadata": {
        "id": "Gp1Oiq0jzZOn",
        "colab": {
          "base_uri": "https://localhost:8080/"
        },
        "outputId": "80fadd15-54d6-4832-feae-8cf8fa5c10a5"
      },
      "outputs": [
        {
          "output_type": "stream",
          "name": "stdout",
          "text": [
            "The HEAD node is:  Gelo\n",
            "The next node is:  Jassy\n",
            "\n",
            "The node_2 is:  Jassy\n",
            "The next node is:  Jessy\n",
            "\n",
            "The node_3 is:  Jessy\n",
            "The next node is:  Boybie\n",
            "\n",
            "The node_4 is:  Boybie\n",
            "The next node is:  Kalli\n",
            "\n",
            "The node_5 is:  Kalli\n",
            "The next node is:  Gelo\n",
            "\n",
            "Gelo -> Jassy -> Jessy -> Boybie -> Kalli -> "
          ]
        }
      ],
      "source": [
        "# put your code here\n",
        "\n",
        "class RowCircular:\n",
        "\n",
        "  def __init__(self):\n",
        "    self.head = None\n",
        "\n",
        "  def traverse(self, node):\n",
        "    head = node\n",
        "    while node:\n",
        "      print(node.data, end=\" -> \")\n",
        "      node = node.next\n",
        "\n",
        "      if node is head:\n",
        "        break\n",
        "\n",
        "circular = RowCircular()\n",
        "\n",
        "circular.head = Node(\"Gelo\")\n",
        "node_2 = Node(\"Jassy\")\n",
        "node_3 = Node(\"Jessy\")\n",
        "node_4 = Node(\"Boybie\")\n",
        "node_5 = Node(\"Kalli\")\n",
        "\n",
        "circular.head.next = node_2\n",
        "node_2.next = node_3\n",
        "node_3.next = node_4\n",
        "node_4.next = node_5\n",
        "node_5.next = circular.head\n",
        "\n",
        "print(\"The HEAD node is: \", circular.head.data)\n",
        "print(\"The next node is: \", circular.head.next.data)\n",
        "\n",
        "print(\"\")\n",
        "\n",
        "print(\"The node_2 is: \", node_2.data)\n",
        "print(\"The next node is: \", node_2.next.data)\n",
        "\n",
        "print(\"\")\n",
        "\n",
        "print(\"The node_3 is: \", node_3.data)\n",
        "print(\"The next node is: \", node_3.next.data)\n",
        "\n",
        "print(\"\")\n",
        "\n",
        "print(\"The node_4 is: \", node_4.data)\n",
        "print(\"The next node is: \", node_4.next.data)\n",
        "\n",
        "print(\"\")\n",
        "\n",
        "print(\"The node_5 is: \", node_5.data)\n",
        "print(\"The next node is: \", node_5.next.data)\n",
        "\n",
        "print(\"\")\n",
        "\n",
        "circular.traverse(circular.head)"
      ]
    }
  ],
  "metadata": {
    "kernelspec": {
      "display_name": "Python 3",
      "language": "python",
      "name": "python3"
    },
    "language_info": {
      "name": "python",
      "version": "3.11.4"
    },
    "orig_nbformat": 4,
    "colab": {
      "provenance": []
    }
  },
  "nbformat": 4,
  "nbformat_minor": 0
}