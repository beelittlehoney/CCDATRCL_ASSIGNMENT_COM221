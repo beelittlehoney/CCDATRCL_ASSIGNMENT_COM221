{
  "cells": [
    {
      "cell_type": "markdown",
      "metadata": {
        "id": "view-in-github",
        "colab_type": "text"
      },
      "source": [
        "<a href=\"https://colab.research.google.com/github/beelittlehoney/CCDATRCL_ASSIGNMENT_COM221/blob/main/exercise3.ipynb\" target=\"_parent\"><img src=\"https://colab.research.google.com/assets/colab-badge.svg\" alt=\"Open In Colab\"/></a>"
      ]
    },
    {
      "cell_type": "markdown",
      "metadata": {
        "id": "Krsnw7wcr_80"
      },
      "source": [
        "# Exercise 3"
      ]
    },
    {
      "cell_type": "markdown",
      "metadata": {
        "id": "JMUepF-Fr_8_"
      },
      "source": [
        "#### Pre-defined classes"
      ]
    },
    {
      "cell_type": "markdown",
      "metadata": {
        "id": "1IemKOYqr_9D"
      },
      "source": [
        "Pre-defined Queue class"
      ]
    },
    {
      "cell_type": "code",
      "execution_count": 249,
      "metadata": {
        "id": "n_z-9T0kr_9F"
      },
      "outputs": [],
      "source": [
        "class Queue:\n",
        "    def __init__(self):\n",
        "        self.queue = []\n",
        "\n",
        "    # Add an element\n",
        "    def enqueue(self, item):\n",
        "        self.queue.append(item)\n",
        "\n",
        "    # Remove an element\n",
        "    def dequeue(self):\n",
        "        if len(self.queue) < 1:\n",
        "            return None\n",
        "        return self.queue.pop(0)\n",
        "\n",
        "    # Display  the queue\n",
        "    def display(self):\n",
        "        print(self.queue)\n",
        "\n",
        "    def size(self):\n",
        "        return len(self.queue)\n",
        "\n",
        "    def peek(self):\n",
        "        return self.queue[0]\n"
      ]
    },
    {
      "cell_type": "markdown",
      "metadata": {
        "id": "D1dqcZ-ur_9K"
      },
      "source": [
        "Pre-defined Deque class"
      ]
    },
    {
      "cell_type": "code",
      "execution_count": 250,
      "metadata": {
        "id": "0cOg6AKrr_9L"
      },
      "outputs": [],
      "source": [
        "class Deque:\n",
        "    def __init__(self):\n",
        "        self.items = []\n",
        "\n",
        "    def isEmpty(self):\n",
        "        return self.items == []\n",
        "\n",
        "    def addRear(self, item):\n",
        "        self.items.append(item)\n",
        "\n",
        "    def addFront(self, item):\n",
        "        self.items.insert(0, item)\n",
        "\n",
        "    def removeFront(self):\n",
        "        return self.items.pop(0)\n",
        "\n",
        "    def removeRear(self):\n",
        "        return self.items.pop()\n",
        "\n",
        "    def size(self):\n",
        "        return len(self.items)"
      ]
    },
    {
      "cell_type": "markdown",
      "metadata": {
        "id": "PFrreBOhr_9N"
      },
      "source": [
        "Pre-defined Circular Queue class"
      ]
    },
    {
      "cell_type": "code",
      "execution_count": 251,
      "metadata": {
        "id": "zfwfHfSbr_9O"
      },
      "outputs": [],
      "source": [
        "class CircularQueue():\n",
        "\n",
        "    def __init__(self, k):\n",
        "        self.k = k\n",
        "        self.queue = [None] * k\n",
        "        self.head = self.tail = -1\n",
        "\n",
        "    # Insert an element into the circular queue\n",
        "    def enqueue(self, data):\n",
        "\n",
        "        if ((self.tail + 1) % self.k == self.head):\n",
        "            print(\"The circular queue is full\\n\")\n",
        "\n",
        "        elif (self.head == -1):\n",
        "            self.head = 0\n",
        "            self.tail = 0\n",
        "            self.queue[self.tail] = data\n",
        "        else:\n",
        "            self.tail = (self.tail + 1) % self.k\n",
        "            self.queue[self.tail] = data\n",
        "\n",
        "    # Delete an element from the circular queue\n",
        "    def dequeue(self):\n",
        "        if (self.head == -1):\n",
        "            print(\"The circular queue is empty\\n\")\n",
        "\n",
        "        elif (self.head == self.tail):\n",
        "            temp = self.queue[self.head]\n",
        "            self.head = -1\n",
        "            self.tail = -1\n",
        "            return temp\n",
        "        else:\n",
        "            temp = self.queue[self.head]\n",
        "            self.head = (self.head + 1) % self.k\n",
        "            return temp\n",
        "\n",
        "    def printCQueue(self):\n",
        "        if(self.head == -1):\n",
        "            print(\"No element in the circular queue\")\n",
        "\n",
        "        elif (self.tail >= self.head):\n",
        "            for i in range(self.head, self.tail + 1):\n",
        "                print(self.queue[i], end=\" \")\n",
        "            print()\n",
        "        else:\n",
        "            for i in range(self.head, self.k):\n",
        "                print(self.queue[i], end=\" \")\n",
        "            for i in range(0, self.tail + 1):\n",
        "                print(self.queue[i], end=\" \")\n",
        "            print()\n"
      ]
    },
    {
      "cell_type": "markdown",
      "metadata": {
        "id": "v9qmpvGVr_9R"
      },
      "source": [
        "Pre-defined Priority Queue Class"
      ]
    },
    {
      "cell_type": "code",
      "execution_count": 252,
      "metadata": {
        "id": "jq-hIJGzr_9S"
      },
      "outputs": [],
      "source": [
        "class PriorityQueueNode:\n",
        "    def __init__(self, value, pr):\n",
        "\n",
        "        self.data = value\n",
        "        self.priority = pr\n",
        "        self.next = None"
      ]
    },
    {
      "cell_type": "code",
      "execution_count": 253,
      "metadata": {
        "id": "2ovgbgTdr_9U"
      },
      "outputs": [],
      "source": [
        "class PriorityQueue:\n",
        "\n",
        "\tdef __init__(self):\n",
        "\n",
        "\t\tself.front = None\n",
        "\n",
        "\t# Method to check Priority Queue is Empty\n",
        "\t# or not if Empty then it will return True\n",
        "\t# Otherwise False\n",
        "\tdef isEmpty(self):\n",
        "\n",
        "\t\treturn True if self.front == None else False\n",
        "\n",
        "\t# Method to add items in Priority Queue\n",
        "\t# According to their priority value\n",
        "\tdef push(self, value, priority):\n",
        "\n",
        "\t\t# Condition check for checking Priority\n",
        "\t\t# Queue is empty or not\n",
        "\t\tif self.isEmpty() == True:\n",
        "\n",
        "\t\t\t# Creating a new node and assigning\n",
        "\t\t\t# it to class variable\n",
        "\t\t\tself.front = PriorityQueueNode(value, priority)\n",
        "\n",
        "\t\t\t# Returning 1 for successful execution\n",
        "\t\t\treturn 1\n",
        "\n",
        "\t\telse:\n",
        "\n",
        "\t\t\t# Special condition check to see that\n",
        "\t\t\t# first node priority value\n",
        "\t\t\tif self.front.priority > priority:\n",
        "\t\t\t\t# Creating a new node\n",
        "\t\t\t\tnewNode = PriorityQueueNode(value, priority)\n",
        "\t\t\t\t# Updating the new node next value\n",
        "\t\t\t\tnewNode.next = self.front\n",
        "\n",
        "\t\t\t\t# Assigning it to self.front\n",
        "\t\t\t\tself.front = newNode\n",
        "\n",
        "\t\t\t\t# Returning 1 for successful execution\n",
        "\t\t\t\treturn 1\n",
        "\n",
        "\t\t\telse:\n",
        "\n",
        "\t\t\t\t# Traversing through Queue until it\n",
        "\t\t\t\t# finds the next smaller priority node\n",
        "\t\t\t\ttemp = self.front\n",
        "\n",
        "\t\t\t\twhile temp.next:\n",
        "\t\t\t\t\t# If same priority node found then current\n",
        "\t\t\t\t\t# node will come after previous node\n",
        "\t\t\t\t\tif priority <= temp.next.priority:\n",
        "\t\t\t\t\t\tbreak\n",
        "\n",
        "\t\t\t\t\ttemp = temp.next\n",
        "\n",
        "\t\t\t\tnewNode = PriorityQueueNode(value, priority)\n",
        "\t\t\t\tnewNode.next = temp.next\n",
        "\t\t\t\ttemp.next = newNode\n",
        "\n",
        "\t\t\t\t# Returning 1 for successful execution\n",
        "\t\t\t\treturn 1\n",
        "\n",
        "\t# Method to remove high priority item\n",
        "\t# from the Priority Queue\n",
        "\tdef pop(self):\n",
        "\n",
        "\t\t# Condition check for checking\n",
        "\t\t# Priority Queue is empty or not\n",
        "\t\tif self.isEmpty() == True:\n",
        "\t\t\treturn\n",
        "\t\telse:\n",
        "\t\t\t# Removing high priority node from\n",
        "\t\t\t# Priority Queue, and updating front\n",
        "\t\t\t# with next node\n",
        "\t\t\tself.front = self.front.next\n",
        "\t\t\treturn 1\n",
        "\n",
        "\t# Method to return high priority node\n",
        "\t# value Not removing it\n",
        "\tdef peek(self):\n",
        "\t\t# Condition check for checking Priority\n",
        "\t\t# Queue is empty or not\n",
        "\t\tif self.isEmpty() == True:\n",
        "\t\t\treturn\n",
        "\t\telse:\n",
        "\t\t\treturn self.front.data\n",
        "\n",
        "\t# Method to Traverse through Priority\n",
        "\t# Queue\n",
        "\tdef traverse(self):\n",
        "\t\t# Condition check for checking Priority\n",
        "\t\t# Queue is empty or not\n",
        "\t\tif self.isEmpty() == True:\n",
        "\t\t\treturn \"Queue is Empty!\"\n",
        "\t\telse:\n",
        "\t\t\ttemp = self.front\n",
        "\t\t\twhile temp:\n",
        "\t\t\t\tprint(temp.data, end=\" \")\n",
        "\t\t\t\ttemp = temp.next\n"
      ]
    },
    {
      "cell_type": "markdown",
      "metadata": {
        "id": "zmKiO0wsr_9V"
      },
      "source": [
        "#### 1. Create a Queue\n",
        "\n",
        "- Each element should contain your name and your other classmates\n",
        "- There should be at least 5 elements in the queue\n",
        "- Put yourself at the end of the queue\n",
        "- Print all elements in the queue"
      ]
    },
    {
      "cell_type": "code",
      "execution_count": 254,
      "metadata": {
        "id": "jOwdGhRQr_9W",
        "colab": {
          "base_uri": "https://localhost:8080/"
        },
        "outputId": "7aba6697-3405-4972-f240-32b9e80508e8"
      },
      "outputs": [
        {
          "output_type": "stream",
          "name": "stdout",
          "text": [
            "Queue:\n",
            "['Gelo', 'Jassy', 'Jessy', 'Kalli', 'Boybie']\n"
          ]
        }
      ],
      "source": [
        "# put your answer here\n",
        "\n",
        "classmates = Queue()\n",
        "\n",
        "classmates.enqueue(\"Gelo\")\n",
        "classmates.enqueue(\"Jassy\")\n",
        "classmates.enqueue(\"Jessy\")\n",
        "classmates.enqueue(\"Kalli\")\n",
        "classmates.enqueue(\"Boybie\")\n",
        "\n",
        "print(\"Queue:\")\n",
        "classmates.display()"
      ]
    },
    {
      "cell_type": "markdown",
      "metadata": {
        "id": "QqlprFtyr_9X"
      },
      "source": [
        "#### 2. Create a Deque\n",
        "\n",
        "Given the queue below,\n",
        "\n",
        "**Queue:**\n",
        "\n",
        "| Cat | Dog | Rabbit | Bird | Hamster\n",
        "| --- | --- | --- | --- | --- |\n",
        "\n",
        "**dequeue** each element and insert them into a **Deque** in the following order below:\n",
        "\n",
        "**Deque:**\n",
        "\n",
        "| Hamster | Bird | Rabbit | Dog | Cat\n",
        "| --- | --- | --- | --- | --- |\n",
        "\n",
        "**Expected output:**\n",
        "\n",
        "['Hamster','Bird', 'Rabbit', 'Dog', 'Cat']"
      ]
    },
    {
      "cell_type": "code",
      "execution_count": 255,
      "metadata": {
        "id": "klAKlQLBr_9Y",
        "colab": {
          "base_uri": "https://localhost:8080/"
        },
        "outputId": "27a8e7df-1d77-4bd7-8325-d51b24e76fbe"
      },
      "outputs": [
        {
          "output_type": "stream",
          "name": "stdout",
          "text": [
            "Queue:\n",
            "['Cat', 'Dog', 'Rabbit', 'Bird', 'Hamster']\n",
            "\n",
            "New Queue:\n",
            "['Hamster', 'Bird', 'Rabbit', 'Dog', 'Cat']\n"
          ]
        }
      ],
      "source": [
        "# put your answer here\n",
        "\n",
        "animals = Queue()\n",
        "d = Deque()\n",
        "\n",
        "animals.enqueue(\"Cat\")\n",
        "animals.enqueue(\"Dog\")\n",
        "animals.enqueue(\"Rabbit\")\n",
        "animals.enqueue(\"Bird\")\n",
        "animals.enqueue(\"Hamster\")\n",
        "\n",
        "print(\"Queue:\")\n",
        "animals.display()\n",
        "\n",
        "print(\"\")\n",
        "\n",
        "d.addFront(\"Cat\")\n",
        "d.addFront(\"Dog\")\n",
        "d.addFront(\"Rabbit\")\n",
        "d.addFront(\"Bird\")\n",
        "d.addFront(\"Hamster\")\n",
        "\n",
        "print(\"New Queue:\")\n",
        "print(d.items)"
      ]
    },
    {
      "cell_type": "markdown",
      "metadata": {
        "id": "FeubwbL9r_9Y"
      },
      "source": [
        "#### 3. Create a Circular Queue\n",
        "\n",
        "Given the queue below,\n",
        "\n",
        "**Queue:**\n",
        "\n",
        "| I | II | III | IV | V | VI | VII | VIII | IX | X | XI | XII\n",
        "| --- | --- | --- | --- | --- | --- | --- | --- | --- | --- | --- | --- |\n",
        "\n",
        "**dequeue** each element and insert them into a **Circular Deque** in the following order below:\n",
        "\n",
        "**Circular Queue:**\n",
        "\n",
        "<img src=\"clock.jpg\"/>\n",
        "\n",
        "**Expected output:**\n",
        "\n",
        "I II III IV V VI VII VIII IX X XI XII"
      ]
    },
    {
      "cell_type": "code",
      "execution_count": 260,
      "metadata": {
        "id": "hFos36wLr_9Z",
        "colab": {
          "base_uri": "https://localhost:8080/"
        },
        "outputId": "fde44a97-6667-4a30-a9bf-679f2df4e75b"
      },
      "outputs": [
        {
          "output_type": "stream",
          "name": "stdout",
          "text": [
            "Circulated Queue:\n",
            "I II III IV V VI VII VIII IX X XI XII \n"
          ]
        }
      ],
      "source": [
        "# put your answer here\n",
        "\n",
        "roman = CircularQueue(12)\n",
        "\n",
        "roman.enqueue(\"I\")\n",
        "roman.enqueue(\"II\")\n",
        "roman.enqueue(\"III\")\n",
        "roman.enqueue(\"IV\")\n",
        "roman.enqueue(\"V\")\n",
        "roman.enqueue(\"VI\")\n",
        "roman.enqueue(\"VII\")\n",
        "roman.enqueue(\"VIII\")\n",
        "roman.enqueue(\"IX\")\n",
        "roman.enqueue(\"X\")\n",
        "roman.enqueue(\"XI\")\n",
        "roman.enqueue(\"XII\")\n",
        "\n",
        "roman.dequeue()\n",
        "roman.dequeue()\n",
        "roman.dequeue()\n",
        "roman.dequeue()\n",
        "roman.dequeue()\n",
        "roman.dequeue()\n",
        "roman.dequeue()\n",
        "roman.dequeue()\n",
        "roman.dequeue()\n",
        "roman.dequeue()\n",
        "roman.dequeue()\n",
        "roman.dequeue()\n",
        "\n",
        "roman.enqueue(\"I\")\n",
        "roman.enqueue(\"II\")\n",
        "roman.enqueue(\"III\")\n",
        "roman.enqueue(\"IV\")\n",
        "roman.enqueue(\"V\")\n",
        "roman.enqueue(\"VI\")\n",
        "roman.enqueue(\"VII\")\n",
        "roman.enqueue(\"VIII\")\n",
        "roman.enqueue(\"IX\")\n",
        "roman.enqueue(\"X\")\n",
        "roman.enqueue(\"XI\")\n",
        "roman.enqueue(\"XII\")\n",
        "\n",
        "print(\"Circulated Queue:\")\n",
        "roman.printCQueue()"
      ]
    },
    {
      "cell_type": "markdown",
      "metadata": {
        "id": "ZRaCtd6dr_9a"
      },
      "source": [
        "#### 4. Create a Priority Queue\n",
        "\n",
        "Given the queue below,\n",
        "\n",
        "**Queue:**\n",
        "\n",
        "| Cat | Dog | Rabbit | Bird | Hamster\n",
        "| --- | --- | --- | --- | --- |\n",
        "\n",
        "\n",
        "**dequeue** each element and insert them into a **Priority Queue** with the following priority values\n",
        "\n",
        "**Priority Queue:**\n",
        "\n",
        "| Element | Priority |\n",
        "| --- | --- |\n",
        "| Hamster |  0 |\n",
        "| Bird |  1 |\n",
        "| Rabbit |  2 |\n",
        "| Dog |  3 |\n",
        "| Cat |  4 |\n",
        "\n",
        "**Expected output:**\n",
        "\n",
        "Hamster Bird Rabbit Dog Cat"
      ]
    },
    {
      "cell_type": "code",
      "execution_count": 257,
      "metadata": {
        "id": "LO-_Zz79r_9a",
        "colab": {
          "base_uri": "https://localhost:8080/"
        },
        "outputId": "7155f258-6abd-4916-de75-6d342894ea74"
      },
      "outputs": [
        {
          "output_type": "stream",
          "name": "stdout",
          "text": [
            "Queue:\n",
            "Cat Dog Rabbit Bird Hamster \n",
            "\n",
            "New Queue:\n",
            "Hamster Bird Rabbit Dog Cat "
          ]
        }
      ],
      "source": [
        "# put your answer here\n",
        "\n",
        "animals = PriorityQueue()\n",
        "\n",
        "print(\"Queue:\")\n",
        "animals.push(\"Cat\", 0)\n",
        "animals.push(\"Dog\", 1)\n",
        "animals.push(\"Rabbit\", 2)\n",
        "animals.push(\"Bird\", 3)\n",
        "animals.push(\"Hamster\", 4)\n",
        "animals.traverse()\n",
        "\n",
        "print(\"\")\n",
        "print(\"\")\n",
        "\n",
        "animals.pop()\n",
        "animals.pop()\n",
        "animals.pop()\n",
        "animals.pop()\n",
        "animals.pop()\n",
        "\n",
        "print(\"New Queue:\")\n",
        "animals.push(\"Cat\", 4)\n",
        "animals.push(\"Dog\", 3)\n",
        "animals.push(\"Rabbit\", 2)\n",
        "animals.push(\"Bird\", 1)\n",
        "animals.push(\"Hamster\", 0)\n",
        "animals.traverse()"
      ]
    },
    {
      "cell_type": "markdown",
      "metadata": {
        "id": "AHOuW6uBr_9c"
      },
      "source": [
        "#### 5. Create a Sorted Circular Queue\n",
        "\n",
        "Given the queue below,\n",
        "\n",
        "**Queue:**\n",
        "\n",
        "| 1 | 5 | 3 | 2 | 7 | 8 | 10 | 11 | 6 | 4 | 12 | 9\n",
        "| --- | --- | --- | --- | --- | --- | --- | --- | --- | --- | --- | --- |\n",
        "\n",
        "\n",
        "**dequeue** each element and insert them into a **Circular Queue** in the following order below:\n",
        "\n",
        "**Circular Queue:**\n",
        "\n",
        "<img src=\"clock1.png\"/>\n",
        "\n",
        "**Expected output:**\n",
        "\n",
        "1 2 3 4 5 6 7 8 9 10 11 12"
      ]
    },
    {
      "cell_type": "code",
      "execution_count": 258,
      "metadata": {
        "id": "X9VWc9eGr_9d",
        "colab": {
          "base_uri": "https://localhost:8080/"
        },
        "outputId": "1c660c49-b812-40d3-9854-1c59622dae11"
      },
      "outputs": [
        {
          "output_type": "stream",
          "name": "stdout",
          "text": [
            "Queue:\n",
            "1 5 3 2 7 8 10 11 6 4 12 9 \n",
            "\n",
            "Sorted Queue:\n",
            "1 2 3 4 5 6 7 8 9 10 11 12 \n"
          ]
        }
      ],
      "source": [
        "# put your answer here\n",
        "\n",
        "sort = CircularQueue(12)\n",
        "\n",
        "sort.enqueue(1)\n",
        "sort.enqueue(5)\n",
        "sort.enqueue(3)\n",
        "sort.enqueue(2)\n",
        "sort.enqueue(7)\n",
        "sort.enqueue(8)\n",
        "sort.enqueue(10)\n",
        "sort.enqueue(11)\n",
        "sort.enqueue(6)\n",
        "sort.enqueue(4)\n",
        "sort.enqueue(12)\n",
        "sort.enqueue(9)\n",
        "\n",
        "print(\"Queue:\")\n",
        "sort.printCQueue()\n",
        "\n",
        "print(\"\")\n",
        "\n",
        "print(\"Sorted Queue:\")\n",
        "\n",
        "def sort_queue(circular_queue):\n",
        "  sorted_items = []\n",
        "\n",
        "  while circular_queue.head != -1:\n",
        "    item = circular_queue.dequeue()\n",
        "    sorted_items.append(item)\n",
        "  sorted_items.sort()\n",
        "\n",
        "  for item in sorted_items:\n",
        "    circular_queue.enqueue(item)\n",
        "\n",
        "sort_queue(sort)\n",
        "sort.printCQueue()"
      ]
    }
  ],
  "metadata": {
    "kernelspec": {
      "display_name": "Python 3",
      "language": "python",
      "name": "python3"
    },
    "language_info": {
      "codemirror_mode": {
        "name": "ipython",
        "version": 3
      },
      "file_extension": ".py",
      "mimetype": "text/x-python",
      "name": "python",
      "nbconvert_exporter": "python",
      "pygments_lexer": "ipython3",
      "version": "3.9.13"
    },
    "orig_nbformat": 4,
    "colab": {
      "provenance": [],
      "include_colab_link": true
    }
  },
  "nbformat": 4,
  "nbformat_minor": 0
}