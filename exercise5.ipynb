{
  "cells": [
    {
      "cell_type": "markdown",
      "metadata": {
        "id": "view-in-github",
        "colab_type": "text"
      },
      "source": [
        "<a href=\"https://colab.research.google.com/github/beelittlehoney/CCDATRCL_ASSIGNMENT_COM221/blob/main/exercise5.ipynb\" target=\"_parent\"><img src=\"https://colab.research.google.com/assets/colab-badge.svg\" alt=\"Open In Colab\"/></a>"
      ]
    },
    {
      "cell_type": "markdown",
      "metadata": {
        "id": "GszvamxODET9"
      },
      "source": [
        "# Exercise 5"
      ]
    },
    {
      "cell_type": "markdown",
      "metadata": {
        "id": "fdlDv0W6DEUG"
      },
      "source": [
        "#### 1. Create a dictionary of your 10 favorite songs."
      ]
    },
    {
      "cell_type": "markdown",
      "metadata": {
        "id": "OI1mkchfDEUH"
      },
      "source": [
        "Example:\n",
        "\n",
        "|KEY|VALUE|\n",
        "|---|---|\n",
        "|001|My Love|\n",
        "|002|Like a rose|"
      ]
    },
    {
      "cell_type": "code",
      "execution_count": 1,
      "metadata": {
        "id": "tzkkx7NfDEUJ",
        "outputId": "b0396fea-9c02-40a8-f595-8355a0b4dee8",
        "colab": {
          "base_uri": "https://localhost:8080/"
        }
      },
      "outputs": [
        {
          "output_type": "stream",
          "name": "stdout",
          "text": [
            "{'01': 'Pagsamo', '02': 'Binhi', '03': 'Isa lang', '04': \"Nasa'king Damdamin\", '05': 'Higa', '06': 'Lihim', '07': 'Oras', '08': 'Someone To Stay', '09': 'Tingin', '10': 'Sinderela'}\n"
          ]
        }
      ],
      "source": [
        "# put your answer here\n",
        "\n",
        "my_fave = {\n",
        "    \"01\": \"Pagsamo\",\n",
        "    \"02\": \"Binhi\",\n",
        "    \"03\": \"Isa lang\",\n",
        "    \"04\": \"Nasa'king Damdamin\",\n",
        "    \"05\": \"Higa\",\n",
        "    \"06\": \"Lihim\",\n",
        "    \"07\": \"Oras\",\n",
        "    \"08\": \"Someone To Stay\",\n",
        "    \"09\": \"Tingin\",\n",
        "    \"10\": \"Sinderela\"\n",
        "}\n",
        "\n",
        "print(my_fave)"
      ]
    },
    {
      "cell_type": "markdown",
      "metadata": {
        "id": "yMn61JM8DEUM"
      },
      "source": [
        "#### 2. Loop through the dictionary by its **key** and **value**"
      ]
    },
    {
      "cell_type": "code",
      "execution_count": 2,
      "metadata": {
        "id": "UwOIP74IDEUN",
        "outputId": "25ffbc62-5846-41b6-8d40-17ccd0d60058",
        "colab": {
          "base_uri": "https://localhost:8080/"
        }
      },
      "outputs": [
        {
          "output_type": "stream",
          "name": "stdout",
          "text": [
            "01 Pagsamo\n",
            "02 Binhi\n",
            "03 Isa lang\n",
            "04 Nasa'king Damdamin\n",
            "05 Higa\n",
            "06 Lihim\n",
            "07 Oras\n",
            "08 Someone To Stay\n",
            "09 Tingin\n",
            "10 Sinderela\n"
          ]
        }
      ],
      "source": [
        "# put your answer here\n",
        "\n",
        "for i, j in my_fave.items():\n",
        "  print(i, j)"
      ]
    },
    {
      "cell_type": "markdown",
      "metadata": {
        "id": "HJZrGvf4DEUO"
      },
      "source": [
        "#### 3. Add one additional song"
      ]
    },
    {
      "cell_type": "code",
      "execution_count": 3,
      "metadata": {
        "id": "5EvIn-YCDEUP",
        "outputId": "13023d06-08b4-451c-d7ff-31ab444e464c",
        "colab": {
          "base_uri": "https://localhost:8080/"
        }
      },
      "outputs": [
        {
          "output_type": "execute_result",
          "data": {
            "text/plain": [
              "{'01': 'Pagsamo',\n",
              " '02': 'Binhi',\n",
              " '03': 'Isa lang',\n",
              " '04': \"Nasa'king Damdamin\",\n",
              " '05': 'Higa',\n",
              " '06': 'Lihim',\n",
              " '07': 'Oras',\n",
              " '08': 'Someone To Stay',\n",
              " '09': 'Tingin',\n",
              " '10': 'Sinderela',\n",
              " '11': 'Di Lahat Minamahal'}"
            ]
          },
          "metadata": {},
          "execution_count": 3
        }
      ],
      "source": [
        "# put your answer here\n",
        "\n",
        "my_fave.update({\"11\": \"Di Lahat Minamahal\"})\n",
        "my_fave"
      ]
    },
    {
      "cell_type": "markdown",
      "metadata": {
        "id": "-Pc3cGYxDEUR"
      },
      "source": [
        "#### 4. Remove one song"
      ]
    },
    {
      "cell_type": "code",
      "execution_count": 4,
      "metadata": {
        "id": "lmhKYIHiDEUS",
        "outputId": "d566ffef-09ea-4688-fa26-cb364dacfd1e",
        "colab": {
          "base_uri": "https://localhost:8080/"
        }
      },
      "outputs": [
        {
          "output_type": "execute_result",
          "data": {
            "text/plain": [
              "{'01': 'Pagsamo',\n",
              " '02': 'Binhi',\n",
              " '03': 'Isa lang',\n",
              " '04': \"Nasa'king Damdamin\",\n",
              " '05': 'Higa',\n",
              " '06': 'Lihim',\n",
              " '07': 'Oras',\n",
              " '08': 'Someone To Stay',\n",
              " '09': 'Tingin',\n",
              " '10': 'Sinderela'}"
            ]
          },
          "metadata": {},
          "execution_count": 4
        }
      ],
      "source": [
        "# put your answer here\n",
        "\n",
        "my_fave.pop(\"11\")\n",
        "my_fave"
      ]
    },
    {
      "cell_type": "markdown",
      "metadata": {
        "id": "ynW_tqZRDEUT"
      },
      "source": [
        "#### 5. Create a nested dictionary of your 10 favorite songs with 5 genres. Display all of the items of the nested dictionary\n",
        "\n",
        "- Each nested dictionary's key should be the genre of the song\n",
        "- Put each song in their respective genre"
      ]
    },
    {
      "cell_type": "markdown",
      "metadata": {
        "id": "VWVU7ZoqDEUT"
      },
      "source": [
        "Example:\n",
        "\n",
        "\n",
        "|KEY|VALUE|\n",
        "|---|---|\n",
        "|Pop|{001, Baby}|\n",
        "|Rock|{001, Enter Sandman}|"
      ]
    },
    {
      "cell_type": "code",
      "execution_count": 5,
      "metadata": {
        "id": "RwhwG-Q-DEUU",
        "outputId": "c611d058-1281-47c3-fd41-0f99fbb42b05",
        "colab": {
          "base_uri": "https://localhost:8080/"
        }
      },
      "outputs": [
        {
          "output_type": "execute_result",
          "data": {
            "text/plain": [
              "{'Jazz': {'01': \"Nasa'king Damdamin\"},\n",
              " 'Pop': {'01': 'Lihim'},\n",
              " 'Rock': {'01': 'Sinderela'},\n",
              " 'RnB': {'01': 'Oras', '02': 'Someone To Stay'},\n",
              " 'Blues': {'01': 'Binhi',\n",
              "  '02': 'Isa Lang',\n",
              "  '03': 'Pagsamo',\n",
              "  '04': 'Tingin',\n",
              "  '05': 'Higa'}}"
            ]
          },
          "metadata": {},
          "execution_count": 5
        }
      ],
      "source": [
        "# put your answer here\n",
        "\n",
        "my_fave = {\n",
        "    \"Jazz\": {\n",
        "        \"01\": \"Nasa'king Damdamin\"\n",
        "    },\n",
        "    \"Pop\": {\n",
        "        \"01\": \"Lihim\"\n",
        "    },\n",
        "    \"Rock\": {\n",
        "        \"01\": \"Sinderela\"\n",
        "    },\n",
        "    \"RnB\": {\n",
        "        \"01\": \"Oras\",\n",
        "        \"02\": \"Someone To Stay\"\n",
        "    },\n",
        "    \"Blues\": {\n",
        "        \"01\": \"Binhi\",\n",
        "        \"02\": \"Isa Lang\",\n",
        "        \"03\": \"Pagsamo\",\n",
        "        \"04\": \"Tingin\",\n",
        "        \"05\": \"Higa\"\n",
        "    }\n",
        "}\n",
        "\n",
        "my_fave"
      ]
    },
    {
      "cell_type": "markdown",
      "metadata": {
        "id": "SOEAwMAkDEUU"
      },
      "source": [
        "#### 6. Print the first song of the first genre"
      ]
    },
    {
      "cell_type": "code",
      "execution_count": 6,
      "metadata": {
        "id": "NyFkFj_UDEUV",
        "outputId": "0e27bea8-72ca-4d51-9ad7-fc2994e22e55",
        "colab": {
          "base_uri": "https://localhost:8080/"
        }
      },
      "outputs": [
        {
          "output_type": "stream",
          "name": "stdout",
          "text": [
            "Nasa'king Damdamin\n"
          ]
        }
      ],
      "source": [
        "# put your answer here\n",
        "\n",
        "print(my_fave[\"Jazz\"][\"01\"])"
      ]
    },
    {
      "cell_type": "markdown",
      "metadata": {
        "id": "l7BmHcRmDEUV"
      },
      "source": [
        "#### 7. Print the first song of the last genre"
      ]
    },
    {
      "cell_type": "code",
      "execution_count": 7,
      "metadata": {
        "id": "S7_6lh6jDEUW",
        "outputId": "0790c745-7f01-4062-815e-3eba97199723",
        "colab": {
          "base_uri": "https://localhost:8080/"
        }
      },
      "outputs": [
        {
          "output_type": "stream",
          "name": "stdout",
          "text": [
            "Binhi\n"
          ]
        }
      ],
      "source": [
        "# put your answer here\n",
        "\n",
        "print(my_fave[\"Blues\"][\"01\"])"
      ]
    }
  ],
  "metadata": {
    "kernelspec": {
      "display_name": "Python 3",
      "language": "python",
      "name": "python3"
    },
    "language_info": {
      "codemirror_mode": {
        "name": "ipython",
        "version": 3
      },
      "file_extension": ".py",
      "mimetype": "text/x-python",
      "name": "python",
      "nbconvert_exporter": "python",
      "pygments_lexer": "ipython3",
      "version": "3.11.4"
    },
    "orig_nbformat": 4,
    "colab": {
      "provenance": [],
      "include_colab_link": true
    }
  },
  "nbformat": 4,
  "nbformat_minor": 0
}